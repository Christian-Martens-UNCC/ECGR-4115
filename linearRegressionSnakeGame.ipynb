{
 "cells": [
  {
   "cell_type": "code",
   "execution_count": 158,
   "id": "9a9766c4-67e7-408b-9fab-1744ff93d915",
   "metadata": {},
   "outputs": [],
   "source": [
    "import numpy as np \n",
    "import pandas as pd \n",
    "from sklearn.model_selection import train_test_split\n",
    "import matplotlib.pyplot as plt\n",
    "\n",
    "df = pd.read_csv(\"C:\\\\Users\\\\Owner\\\\Desktop\\\\DataFolders\\\\master_dataset_6.csv\")\n",
    "\n",
    "df = df.iloc[:,2:]\n",
    "\n",
    "for column in df.columns:\n",
    "    df[column] =  df[column]/ df[column].abs().max()\n",
    "\n",
    "alpha = .01\n",
    "iterations = 1500\n",
    "theta = np.zeros(2)\n",
    "\n",
    "theta = theta.reshape(2,1)\n",
    "\n",
    "Astar = df.iloc[:2883]\n",
    "bfs = df.iloc[2883:5719]\n",
    "dikjstra = df.iloc[5719:]\n",
    "\n",
    "\n",
    "\n",
    "\n",
    "\n",
    "xA= Astar.values[:,0]\n",
    "yA = Astar.values[:,1]\n",
    "\n",
    "xbfs= bfs.values[:,0]\n",
    "ybfs = bfs.values[:,1]\n",
    "\n",
    "xDik= dikjstra.values[:,0]\n",
    "yDik = dikjstra.values[:,1]\n",
    "\n",
    "\n",
    "\n",
    "\n",
    "mA = len(xA)\n",
    "mB = len(xbfs)\n",
    "mD = len(xDik)\n",
    "\n",
    "x0A = np.ones((mA,1))\n",
    "x0B = np.ones((mB,1))\n",
    "x0D = np.ones((mD,1))\n",
    "\n",
    "\n",
    "xAhold =xA.reshape(mA,1)\n",
    "xBhold =xbfs.reshape(mB,1)\n",
    "xDhold =xDik.reshape(mD,1)\n",
    "yAhold =yA.reshape(mA,1)\n",
    "yBhold =ybfs.reshape(mB,1)\n",
    "yDhold =yDik.reshape(mD,1)\n",
    "\n",
    "\n",
    "xA = np.hstack((x0A, xAhold))\n",
    "yA = yAhold\n",
    "\n",
    "xBfs = np.hstack((x0B,xBhold))\n",
    "yBfs = yBhold\n",
    "\n",
    "xDik = np.hstack((x0D,xDhold))\n",
    "yDik = yDhold\n",
    "\n",
    "xATrain,xATest,yATrain,yATest = train_test_split(xA,yA,test_size = .2, random_state = 50)\n",
    "mAtrain = len(xATrain)\n",
    "\n",
    "xBFSTrain,xBFSTest,yBFSTrain,yBFSTest = train_test_split(xBfs,yBfs,test_size = .2, random_state = 50)\n",
    "mBtrain = len(xBFSTrain)\n",
    "\n",
    "xDTrain,xDTest,yDTrain,yDTest = train_test_split(xDik,yDik,test_size = .2, random_state = 50)\n",
    "mDtrain = len(xDTrain)\n"
   ]
  },
  {
   "cell_type": "code",
   "execution_count": 159,
   "id": "21e1745a-0e04-4ccd-bf0d-3740a29df86c",
   "metadata": {},
   "outputs": [
    {
     "data": {
      "text/html": [
       "<div>\n",
       "<style scoped>\n",
       "    .dataframe tbody tr th:only-of-type {\n",
       "        vertical-align: middle;\n",
       "    }\n",
       "\n",
       "    .dataframe tbody tr th {\n",
       "        vertical-align: top;\n",
       "    }\n",
       "\n",
       "    .dataframe thead th {\n",
       "        text-align: right;\n",
       "    }\n",
       "</style>\n",
       "<table border=\"1\" class=\"dataframe\">\n",
       "  <thead>\n",
       "    <tr style=\"text-align: right;\">\n",
       "      <th></th>\n",
       "      <th>Length</th>\n",
       "      <th>Time</th>\n",
       "    </tr>\n",
       "  </thead>\n",
       "  <tbody>\n",
       "    <tr>\n",
       "      <th>0</th>\n",
       "      <td>0.096774</td>\n",
       "      <td>0.102151</td>\n",
       "    </tr>\n",
       "    <tr>\n",
       "      <th>1</th>\n",
       "      <td>0.129032</td>\n",
       "      <td>0.225806</td>\n",
       "    </tr>\n",
       "    <tr>\n",
       "      <th>2</th>\n",
       "      <td>0.161290</td>\n",
       "      <td>0.338710</td>\n",
       "    </tr>\n",
       "    <tr>\n",
       "      <th>3</th>\n",
       "      <td>0.193548</td>\n",
       "      <td>0.053763</td>\n",
       "    </tr>\n",
       "    <tr>\n",
       "      <th>4</th>\n",
       "      <td>0.225806</td>\n",
       "      <td>0.123656</td>\n",
       "    </tr>\n",
       "    <tr>\n",
       "      <th>...</th>\n",
       "      <td>...</td>\n",
       "      <td>...</td>\n",
       "    </tr>\n",
       "    <tr>\n",
       "      <th>8724</th>\n",
       "      <td>0.516129</td>\n",
       "      <td>0.118280</td>\n",
       "    </tr>\n",
       "    <tr>\n",
       "      <th>8725</th>\n",
       "      <td>0.548387</td>\n",
       "      <td>0.102151</td>\n",
       "    </tr>\n",
       "    <tr>\n",
       "      <th>8726</th>\n",
       "      <td>0.580645</td>\n",
       "      <td>0.333333</td>\n",
       "    </tr>\n",
       "    <tr>\n",
       "      <th>8727</th>\n",
       "      <td>0.612903</td>\n",
       "      <td>0.032258</td>\n",
       "    </tr>\n",
       "    <tr>\n",
       "      <th>8728</th>\n",
       "      <td>0.645161</td>\n",
       "      <td>0.129032</td>\n",
       "    </tr>\n",
       "  </tbody>\n",
       "</table>\n",
       "<p>8729 rows × 2 columns</p>\n",
       "</div>"
      ],
      "text/plain": [
       "        Length      Time\n",
       "0     0.096774  0.102151\n",
       "1     0.129032  0.225806\n",
       "2     0.161290  0.338710\n",
       "3     0.193548  0.053763\n",
       "4     0.225806  0.123656\n",
       "...        ...       ...\n",
       "8724  0.516129  0.118280\n",
       "8725  0.548387  0.102151\n",
       "8726  0.580645  0.333333\n",
       "8727  0.612903  0.032258\n",
       "8728  0.645161  0.129032\n",
       "\n",
       "[8729 rows x 2 columns]"
      ]
     },
     "execution_count": 159,
     "metadata": {},
     "output_type": "execute_result"
    }
   ],
   "source": [
    "\n",
    "\n",
    "\n",
    "def findLoss(X, Y, theta, m):\n",
    "    predictions = X.dot(theta) \n",
    "    errors = np.subtract(predictions, Y) \n",
    "    sqrErrors = np.square(errors) \n",
    "    J = 1 / (2 * m) * np.sum(sqrErrors)\n",
    "    return J\n",
    "\n",
    "\n",
    "\n",
    "df"
   ]
  },
  {
   "cell_type": "code",
   "execution_count": 160,
   "id": "0a158a20-8741-4d3d-b888-34df1e2731ef",
   "metadata": {},
   "outputs": [],
   "source": [
    "\n",
    "def gradientDescentLOSS(X, Y, theta, alpha, iterations, m, xTest, yTest):\n",
    "    \n",
    "    cost_history = np.zeros(iterations)\n",
    "    cost_historyTest = np.zeros(iterations)\n",
    "    for i in range(iterations): \n",
    "        predictions = X.dot(theta) \n",
    "        errors = np.subtract(predictions, Y) \n",
    "        sum_delta = (alpha / m) * X.transpose().dot(errors); \n",
    "        theta = theta - sum_delta;\n",
    "        cost_history[i] = findLoss(X, Y, theta,m)\n",
    "        cost_historyTest[i] = findLoss(xTest,yTest,theta,m)\n",
    "    return theta, cost_history, cost_historyTest"
   ]
  },
  {
   "cell_type": "code",
   "execution_count": 161,
   "id": "38aaacba-7440-456f-b384-684c6ae8c942",
   "metadata": {},
   "outputs": [
    {
     "data": {
      "text/plain": [
       "(array([[0.11814326],\n",
       "        [0.018039  ]]),\n",
       " array([0.01324336, 0.01307548, 0.01291132, ..., 0.00566354, 0.00566352,\n",
       "        0.00566351]),\n",
       " array([0.00317273, 0.00313237, 0.00309292, ..., 0.00141447, 0.00141447,\n",
       "        0.00141446]))"
      ]
     },
     "execution_count": 161,
     "metadata": {},
     "output_type": "execute_result"
    }
   ],
   "source": [
    "\n",
    "\n",
    "\n",
    "thetaAstar, losstranA, lossHistoryTESTA = gradientDescentLOSS(xATrain,yATrain,theta,alpha,iterations, mAtrain,xATest,yATest)\n",
    "\n",
    "thetaAstar, losstranA, lossHistoryTESTA"
   ]
  },
  {
   "cell_type": "code",
   "execution_count": 162,
   "id": "da1130d4-fbbb-446d-8316-50d1e447d0e4",
   "metadata": {},
   "outputs": [
    {
     "data": {
      "text/plain": [
       "(array([[0.11814326],\n",
       "        [0.018039  ]]),\n",
       " array([0.01324336, 0.01307548, 0.01291132, ..., 0.00566354, 0.00566352,\n",
       "        0.00566351]),\n",
       " array([0.00317273, 0.00313237, 0.00309292, ..., 0.00141447, 0.00141447,\n",
       "        0.00141446]))"
      ]
     },
     "execution_count": 162,
     "metadata": {},
     "output_type": "execute_result"
    },
    {
     "data": {
      "image/png": "[encoded data removed]",
      "text/plain": [
       "<Figure size 720x432 with 1 Axes>"
      ]
     },
     "metadata": {
      "needs_background": "light"
     },
     "output_type": "display_data"
    }
   ],
   "source": [
    "plt.plot(range(1, iterations + 1),losstranA, color='blue') \n",
    "plt.plot(range(1, iterations + 1),lossHistoryTESTA, color='red') \n",
    "\n",
    "plt.rcParams[\"figure.figsize\"] = (10,6) \n",
    "plt.grid() \n",
    "plt.xlabel('Number of iterations') \n",
    "plt.ylabel('Cost (J)') \n",
    "plt.title('Convergence of gradient descent') \n",
    "\n",
    "#blue is the loss of the training set \n",
    "#red is loss of the test set\n",
    "thetaAstar, losstranA, lossHistoryTESTA"
   ]
  },
  {
   "cell_type": "code",
   "execution_count": 163,
   "id": "67472ae2-acf1-4285-bd8b-ddaa1d89800e",
   "metadata": {},
   "outputs": [
    {
     "data": {
      "text/plain": [
       "(array([[0.09355117],\n",
       "        [0.00940786]]),\n",
       " array([0.008875  , 0.00877358, 0.00867441, ..., 0.00427521, 0.0042752 ,\n",
       "        0.00427518]),\n",
       " array([0.00225297, 0.0022267 , 0.002201  , ..., 0.00100655, 0.00100654,\n",
       "        0.00100654]))"
      ]
     },
     "execution_count": 163,
     "metadata": {},
     "output_type": "execute_result"
    },
    {
     "data": {
      "image/png": "[encoded data removed]",
      "text/plain": [
       "<Figure size 720x432 with 1 Axes>"
      ]
     },
     "metadata": {
      "needs_background": "light"
     },
     "output_type": "display_data"
    }
   ],
   "source": [
    "thetaB, losstranB, lossHistoryTESTB = gradientDescentLOSS(xBFSTrain,yBFSTrain,theta,alpha,iterations, mBtrain,xBFSTest,yBFSTest)\n",
    "\n",
    "\n",
    "\n",
    "plt.plot(range(1, iterations + 1),losstranB, color='blue') \n",
    "plt.plot(range(1, iterations + 1),lossHistoryTESTB, color='red') \n",
    "\n",
    "plt.rcParams[\"figure.figsize\"] = (10,6) \n",
    "plt.grid() \n",
    "plt.xlabel('Number of iterations') \n",
    "plt.ylabel('Cost (J)') \n",
    "plt.title('Convergence of gradient descent') \n",
    "\n",
    "#blue is the loss of the training set \n",
    "#red is loss of the test set\n",
    "thetaB, losstranB, lossHistoryTESTB"
   ]
  },
  {
   "cell_type": "code",
   "execution_count": 164,
   "id": "bca9438a-253f-437b-862e-3a1b2551e253",
   "metadata": {},
   "outputs": [
    {
     "data": {
      "text/plain": [
       "(array([[0.16621662],\n",
       "        [0.00142269]]),\n",
       " array([0.02478487, 0.02448175, 0.0241854 , ..., 0.01103825, 0.01103817,\n",
       "        0.01103808]),\n",
       " array([0.00628713, 0.00621031, 0.0061352 , ..., 0.00274514, 0.00274511,\n",
       "        0.00274508]))"
      ]
     },
     "execution_count": 164,
     "metadata": {},
     "output_type": "execute_result"
    },
    {
     "data": {
      "image/png": "[encoded data removed]",
      "text/plain": [
       "<Figure size 720x432 with 1 Axes>"
      ]
     },
     "metadata": {
      "needs_background": "light"
     },
     "output_type": "display_data"
    }
   ],
   "source": [
    "thetaD, losstranD, lossHistoryTESTD = gradientDescentLOSS(xDTrain,yDTrain,theta,alpha,iterations, mDtrain,xDTest,yDTest)\n",
    "\n",
    "\n",
    "\n",
    "plt.plot(range(1, iterations + 1),losstranD, color='blue') \n",
    "plt.plot(range(1, iterations + 1),lossHistoryTESTD, color='red') \n",
    "\n",
    "plt.rcParams[\"figure.figsize\"] = (10,6) \n",
    "plt.grid() \n",
    "plt.xlabel('Number of iterations') \n",
    "plt.ylabel('Cost (J)') \n",
    "plt.title('Convergence of gradient descent') \n",
    "\n",
    "#blue is the loss of the training set \n",
    "#red is loss of the test set\n",
    "thetaD, losstranD, lossHistoryTESTD"
   ]
  },
  {
   "cell_type": "code",
   "execution_count": null,
   "id": "f456c9ef-0dff-4196-9aba-28816973ce9b",
   "metadata": {},
   "outputs": [],
   "source": []
  },
  {
   "cell_type": "code",
   "execution_count": null,
   "id": "0df4b109-4d92-4a0b-97fe-9f2822996d9c",
   "metadata": {},
   "outputs": [],
   "source": []
  },
  {
   "cell_type": "code",
   "execution_count": null,
   "id": "04f9db76-e460-4d09-8da0-e9830f46e1b5",
   "metadata": {},
   "outputs": [],
   "source": []
  }
 ],
 "metadata": {
  "kernelspec": {
   "display_name": "Python 3 (ipykernel)",
   "language": "python",
   "name": "python3"
  },
  "language_info": {
   "codemirror_mode": {
    "name": "ipython",
    "version": 3
   },
   "file_extension": ".py",
   "mimetype": "text/x-python",
   "name": "python",
   "nbconvert_exporter": "python",
   "pygments_lexer": "ipython3",
   "version": "3.9.12"
  }
 },
 "nbformat": 4,
 "nbformat_minor": 5
}
